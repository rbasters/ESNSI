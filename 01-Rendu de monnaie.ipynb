{
 "cells": [
  {
   "cell_type": "code",
   "execution_count": 1,
   "metadata": {
    "collapsed": true,
    "hideCode": false,
    "hidePrompt": false
   },
   "outputs": [
    {
     "name": "stdout",
     "output_type": "stream",
     "text": [
      "Requirement already satisfied: memory_profiler in c:\\users\\erwan\\anaconda3\\lib\\site-packages (0.57.0)\n",
      "Requirement already satisfied: psutil in c:\\users\\erwan\\anaconda3\\lib\\site-packages (from memory_profiler) (5.6.7)\n",
      "Note: you may need to restart the kernel to use updated packages.\n"
     ]
    }
   ],
   "source": [
    "pip install memory_profiler"
   ]
  },
  {
   "cell_type": "code",
   "execution_count": 2,
   "metadata": {
    "hideCode": false,
    "hidePrompt": false
   },
   "outputs": [],
   "source": [
    "%load_ext memory_profiler"
   ]
  },
  {
   "cell_type": "markdown",
   "metadata": {
    "hideCode": false,
    "hidePrompt": false,
    "slideshow": {
     "slide_type": "slide"
    }
   },
   "source": [
    "# Rendu de monnaie"
   ]
  },
  {
   "cell_type": "markdown",
   "metadata": {
    "hideCode": false,
    "hidePrompt": false
   },
   "source": [
    "[Wikipedia](https://fr.wikipedia.org/wiki/Probl%C3%A8me_du_rendu_de_monnaie)"
   ]
  },
  {
   "cell_type": "markdown",
   "metadata": {
    "hideCode": false,
    "hidePrompt": false
   },
   "source": [
    "## Fonction renduMonnaie"
   ]
  },
  {
   "cell_type": "code",
   "execution_count": 13,
   "metadata": {
    "hideCode": false,
    "hidePrompt": false,
    "slideshow": {
     "slide_type": "subslide"
    }
   },
   "outputs": [],
   "source": [
    "def renduMonnaie(systemeMonetaire,sommeARendre):\n",
    "    #on rend 0 pièces de chaque valeur présente dans systemeMonetaire\n",
    "    piecesRendues=[0 for i in range(len(systemeMonetaire))]\n",
    "    #on va rechercher le nombre de pièces de systemeMonetaire[0] à rendre\n",
    "    indexPiece = 0\n",
    "    while sommeARendre>0 and indexPiece<len(systemeMonetaire):\n",
    "        #on détermine le nombre de pièces de systemeMonetaire[indexPiece] à rendre (éventuellement 0)\n",
    "        nbPieces = sommeARendre // systemeMonetaire[indexPiece]\n",
    "        #on calcule la nouvelle somme à rendre\n",
    "        sommeARendre -= nbPieces*systemeMonetaire[indexPiece]\n",
    "        #on ajouter nbPieces dans la liste des pièces à rendre\n",
    "        piecesRendues[indexPiece]=nbPieces\n",
    "        #on passe à la pièce suivante\n",
    "        indexPiece+=1\n",
    "    return piecesRendues"
   ]
  },
  {
   "cell_type": "markdown",
   "metadata": {
    "hideCode": false,
    "hidePrompt": false
   },
   "source": [
    "## Fonction renduMonnaieRecursif "
   ]
  },
  {
   "cell_type": "code",
   "execution_count": 5,
   "metadata": {
    "hideCode": false,
    "hidePrompt": false,
    "slideshow": {
     "slide_type": "subslide"
    }
   },
   "outputs": [],
   "source": [
    "def renduMonnaieRecursif(systemeMonetaire,sommeARendre):\n",
    "    if sommeARendre ==0 or len(systemeMonetaire)==0:\n",
    "        #plus aucune pièce à rendre\n",
    "        return []\n",
    "    else:\n",
    "        #calcul du nombre de pièces à rendre\n",
    "        nbPieces = sommeARendre // systemeMonetaire[0]\n",
    "        #création de la liste et appel récursif\n",
    "        return [nbPieces]+renduMonnaieRecursif(systemeMonetaire[1:],sommeARendre-nbPieces*systemeMonetaire[0])"
   ]
  },
  {
   "cell_type": "markdown",
   "metadata": {
    "hideCode": false,
    "hidePrompt": false
   },
   "source": [
    "---\n",
    "### Cas 1\n",
    "Somme à rendre : 58 €\n",
    "\n",
    "Système monétaire : 10, 5, 2, 1 \n",
    "\n",
    "Solution optimale : [5,1,1,1]"
   ]
  },
  {
   "cell_type": "code",
   "execution_count": 6,
   "metadata": {
    "hideCode": false,
    "hidePrompt": false,
    "slideshow": {
     "slide_type": "subslide"
    }
   },
   "outputs": [
    {
     "name": "stdout",
     "output_type": "stream",
     "text": [
      "[5, 1, 1, 1]\n",
      "[5, 1, 1, 1]\n"
     ]
    }
   ],
   "source": [
    "systemeMonetaire=[10,5,2,1]\n",
    "sommeARendre = 58\n",
    "print(renduMonnaie(systemeMonetaire,sommeARendre))\n",
    "print(renduMonnaieRecursif(systemeMonetaire,sommeARendre))"
   ]
  },
  {
   "cell_type": "code",
   "execution_count": 7,
   "metadata": {
    "hideCode": false,
    "hidePrompt": false
   },
   "outputs": [
    {
     "name": "stdout",
     "output_type": "stream",
     "text": [
      "1.73 µs ± 107 ns per loop (mean ± std. dev. of 7 runs, 1000000 loops each)\n",
      "1.87 µs ± 41.5 ns per loop (mean ± std. dev. of 7 runs, 1000000 loops each)\n"
     ]
    }
   ],
   "source": [
    "%timeit renduMonnaie(systemeMonetaire,sommeARendre)\n",
    "%timeit renduMonnaieRecursif(systemeMonetaire,sommeARendre)"
   ]
  },
  {
   "cell_type": "code",
   "execution_count": 8,
   "metadata": {
    "hideCode": false,
    "hidePrompt": false
   },
   "outputs": [
    {
     "name": "stdout",
     "output_type": "stream",
     "text": [
      "peak memory: 51.50 MiB, increment: 0.24 MiB\n",
      "peak memory: 51.50 MiB, increment: 0.00 MiB\n"
     ]
    }
   ],
   "source": [
    "%memit renduMonnaie(systemeMonetaire,sommeARendre)\n",
    "%memit renduMonnaieRecursif(systemeMonetaire,sommeARendre)"
   ]
  },
  {
   "cell_type": "markdown",
   "metadata": {
    "hideCode": false,
    "hidePrompt": false
   },
   "source": [
    "---\n",
    "### Cas 2\n",
    "Somme à rendre : 58 €\n",
    "\n",
    "Système monétaire : 10, 5, 4, 1\n",
    "\n",
    "Solution optimale : [5,0,2,0]"
   ]
  },
  {
   "cell_type": "code",
   "execution_count": 9,
   "metadata": {
    "hideCode": false,
    "hidePrompt": false,
    "slideshow": {
     "slide_type": "subslide"
    }
   },
   "outputs": [
    {
     "name": "stdout",
     "output_type": "stream",
     "text": [
      "[5, 1, 0, 3]\n",
      "[5, 1, 0, 3]\n"
     ]
    }
   ],
   "source": [
    "systemeMonetaire=[10,5,4,1]\n",
    "sommeARendre = 58\n",
    "\n",
    "print(renduMonnaie(systemeMonetaire,sommeARendre))\n",
    "print(renduMonnaieRecursif(systemeMonetaire,sommeARendre))"
   ]
  },
  {
   "cell_type": "markdown",
   "metadata": {
    "hideCode": false,
    "hidePrompt": false
   },
   "source": [
    "---\n",
    "### Cas 3\n",
    "Somme à rendre : 58 €\n",
    "\n",
    "Système monétaire : 10, 5, 4\n",
    "\n",
    "Solution optimale : [5,0,2]"
   ]
  },
  {
   "cell_type": "code",
   "execution_count": 10,
   "metadata": {
    "hideCode": false,
    "hidePrompt": false,
    "slideshow": {
     "slide_type": "subslide"
    }
   },
   "outputs": [
    {
     "name": "stdout",
     "output_type": "stream",
     "text": [
      "[5, 1, 0]\n",
      "[5, 1, 0]\n"
     ]
    }
   ],
   "source": [
    "systemeMonetaire=[10,5,4]\n",
    "sommeARendre = 58\n",
    "\n",
    "print(renduMonnaie(systemeMonetaire,sommeARendre))\n",
    "print(renduMonnaieRecursif(systemeMonetaire,sommeARendre))"
   ]
  },
  {
   "cell_type": "markdown",
   "metadata": {
    "hideCode": false,
    "hidePrompt": false
   },
   "source": [
    "---\n",
    "### Cas 4\n",
    "Somme à rendre : 11 €\n",
    "\n",
    "Système monétaire : 10, 5, 4"
   ]
  },
  {
   "cell_type": "code",
   "execution_count": 11,
   "metadata": {
    "hideCode": false,
    "hidePrompt": false,
    "slideshow": {
     "slide_type": "subslide"
    }
   },
   "outputs": [
    {
     "name": "stdout",
     "output_type": "stream",
     "text": [
      "[1, 0, 0]\n",
      "[1, 0, 0]\n"
     ]
    }
   ],
   "source": [
    "systemeMonetaire=[10,5,4]\n",
    "sommeARendre = 11\n",
    "\n",
    "print(renduMonnaie(systemeMonetaire,sommeARendre))\n",
    "print(renduMonnaieRecursif(systemeMonetaire,sommeARendre))"
   ]
  },
  {
   "cell_type": "markdown",
   "metadata": {
    "hideCode": false,
    "hidePrompt": false
   },
   "source": [
    "### Cas complexes"
   ]
  },
  {
   "cell_type": "code",
   "execution_count": 12,
   "metadata": {
    "hideCode": false,
    "hidePrompt": false
   },
   "outputs": [
    {
     "name": "stdout",
     "output_type": "stream",
     "text": [
      "5.62 µs ± 214 ns per loop (mean ± std. dev. of 7 runs, 100000 loops each)\n",
      "7.14 µs ± 237 ns per loop (mean ± std. dev. of 7 runs, 100000 loops each)\n",
      "peak memory: 51.61 MiB, increment: 0.01 MiB\n",
      "peak memory: 51.62 MiB, increment: 0.00 MiB\n",
      "5.48 µs ± 200 ns per loop (mean ± std. dev. of 7 runs, 100000 loops each)\n",
      "7.03 µs ± 196 ns per loop (mean ± std. dev. of 7 runs, 100000 loops each)\n",
      "peak memory: 51.62 MiB, increment: 0.00 MiB\n",
      "peak memory: 51.62 MiB, increment: 0.00 MiB\n"
     ]
    }
   ],
   "source": [
    "systemeMonetaire=[500,200,100,20,10,5,2,1,0.5,0.2,0.05,0.01]\n",
    "sommeARendre = 1234.45\n",
    "\n",
    "%timeit renduMonnaie(systemeMonetaire,sommeARendre)\n",
    "%timeit renduMonnaieRecursif(systemeMonetaire,sommeARendre)\n",
    "\n",
    "%memit renduMonnaie(systemeMonetaire,sommeARendre)\n",
    "%memit renduMonnaieRecursif(systemeMonetaire,sommeARendre)\n",
    "\n",
    "systemeMonetaire=[500,200,100,20,10,5,2,1,0.5,0.2,0.05,0.01]\n",
    "sommeARendre = 12034.45\n",
    "\n",
    "%timeit renduMonnaie(systemeMonetaire,sommeARendre)\n",
    "%timeit renduMonnaieRecursif(systemeMonetaire,sommeARendre)\n",
    "\n",
    "%memit renduMonnaie(systemeMonetaire,sommeARendre)\n",
    "%memit renduMonnaieRecursif(systemeMonetaire,sommeARendre)"
   ]
  }
 ],
 "metadata": {
  "celltoolbar": "Aucun(e)",
  "hide_code_all_hidden": false,
  "kernelspec": {
   "display_name": "Python 3",
   "language": "python",
   "name": "python3"
  },
  "language_info": {
   "codemirror_mode": {
    "name": "ipython",
    "version": 3
   },
   "file_extension": ".py",
   "mimetype": "text/x-python",
   "name": "python",
   "nbconvert_exporter": "python",
   "pygments_lexer": "ipython3",
   "version": "3.7.6"
  }
 },
 "nbformat": 4,
 "nbformat_minor": 4
}
