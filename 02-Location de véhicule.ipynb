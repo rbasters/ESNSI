{
 "cells": [
  {
   "cell_type": "code",
   "execution_count": 1,
   "metadata": {
    "collapsed": true
   },
   "outputs": [
    {
     "name": "stdout",
     "output_type": "stream",
     "text": [
      "Requirement already satisfied: memory_profiler in c:\\users\\erwan\\anaconda3\\lib\\site-packages (0.57.0)\n",
      "Requirement already satisfied: psutil in c:\\users\\erwan\\anaconda3\\lib\\site-packages (from memory_profiler) (5.6.7)\n",
      "Note: you may need to restart the kernel to use updated packages.\n"
     ]
    }
   ],
   "source": [
    "pip install memory_profiler"
   ]
  },
  {
   "cell_type": "code",
   "execution_count": 2,
   "metadata": {},
   "outputs": [],
   "source": [
    "%load_ext memory_profiler"
   ]
  },
  {
   "cell_type": "markdown",
   "metadata": {},
   "source": [
    "# Location d’un véhicule"
   ]
  },
  {
   "cell_type": "markdown",
   "metadata": {},
   "source": [
    "Une société propose un de ses véhicules en location à ses employés. Son objectif est de maximiser le nombre d’employés satisfaits, c’est à dire qu’elle préfère louer son véhicule à 5 employés pour une heure que le louer une seule fois pour 6 heures.\n",
    "Voici la liste des demandes de location reçues pour la journée de samedi :\n",
    "* Valérie : de 9h à 17h\n",
    "* Didier : de 6h à 8h\n",
    "* Stéphanie : de 8h30 à 12h\n",
    "* Jean : de 7h à 8h30\n",
    "* Sabrina : de 9h à 12h\n",
    "* Jacques : de 10h à 13h\n",
    "* Michèle : de 14h à 18h\n",
    "* François : de 13h30 à 16h30"
   ]
  },
  {
   "cell_type": "markdown",
   "metadata": {},
   "source": [
    "1. Proposer une structure de données permettant de modéliser les demandes."
   ]
  },
  {
   "cell_type": "code",
   "execution_count": 15,
   "metadata": {},
   "outputs": [],
   "source": [
    "demandes = [\n",
    "    {\"demandeur\":\"Valérie\",\"heureDebut\":9,\"heureFin\":17},\n",
    "    {\"demandeur\":\"Dider\",\"heureDebut\":6,\"heureFin\":8},\n",
    "    {\"demandeur\":\"Stéphanie\",\"heureDebut\":8.5,\"heureFin\":12},\n",
    "    {\"demandeur\":\"Jean\",\"heureDebut\":7,\"heureFin\":8.5},\n",
    "    {\"demandeur\":\"Sabrina\",\"heureDebut\":9,\"heureFin\":12},\n",
    "    {\"demandeur\":\"Jacques\",\"heureDebut\":10,\"heureFin\":13},\n",
    "    {\"demandeur\":\"Michèle\",\"heureDebut\":14,\"heureFin\":18},\n",
    "    {\"demandeur\":\"François\",\"heureDebut\":13.5,\"heureFin\":16.5}\n",
    "]"
   ]
  },
  {
   "cell_type": "markdown",
   "metadata": {},
   "source": [
    "2. Déterminer “à la main” la solution optimale."
   ]
  },
  {
   "cell_type": "code",
   "execution_count": 5,
   "metadata": {},
   "outputs": [
    {
     "data": {
      "text/plain": [
       "[{'demandeur': 'Dider', 'heureDebut': 6, 'heureFin': 8},\n",
       " {'demandeur': 'Stéphanie', 'heureDebut': 8.5, 'heureFin': 12},\n",
       " {'demandeur': 'François', 'heureDebut': 13.5, 'heureFin': 16.5}]"
      ]
     },
     "execution_count": 5,
     "metadata": {},
     "output_type": "execute_result"
    }
   ],
   "source": [
    "[\n",
    "    {'demandeur': 'Dider', 'heureDebut': 6, 'heureFin': 8},\n",
    "    {'demandeur': 'Stéphanie', 'heureDebut': 8.5, 'heureFin': 12}, \n",
    "    {'demandeur': 'François', 'heureDebut': 13.5, 'heureFin': 16.5}\n",
    "]"
   ]
  },
  {
   "cell_type": "markdown",
   "metadata": {},
   "source": [
    "3. Écrire une fonction qui trie la structure de données définie à l’étape 1 \n",
    "    * par heure de début croissante."
   ]
  },
  {
   "cell_type": "code",
   "execution_count": 6,
   "metadata": {},
   "outputs": [],
   "source": [
    "def liste_triInsertionDictionnaire(liste,cle):\n",
    "    for i in range(1, len(liste)):\n",
    "        #on commence le tri de liste[0:i]\n",
    "        j = i - 1\n",
    "        tmp = liste[i] #on stocke la valeur de liste[i]\n",
    "        while j > -1 and liste[j][cle] > tmp[cle]:\n",
    "            liste[j+1] = liste[j] #on decale les valeurs à droite\n",
    "            j -= 1\n",
    "        liste[j+1] = tmp # on place la valeur de l'ancien liste[i]\n",
    "    return liste\n"
   ]
  },
  {
   "cell_type": "code",
   "execution_count": 7,
   "metadata": {},
   "outputs": [
    {
     "name": "stdout",
     "output_type": "stream",
     "text": [
      "[{'demandeur': 'Dider', 'heureDebut': 6, 'heureFin': 8}, {'demandeur': 'Jean', 'heureDebut': 7, 'heureFin': 8.5}, {'demandeur': 'Stéphanie', 'heureDebut': 8.5, 'heureFin': 12}, {'demandeur': 'Valérie', 'heureDebut': 9, 'heureFin': 17}, {'demandeur': 'Sabrina', 'heureDebut': 9, 'heureFin': 12}, {'demandeur': 'Jacques', 'heureDebut': 10, 'heureFin': 13}, {'demandeur': 'François', 'heureDebut': 13.5, 'heureFin': 16.5}, {'demandeur': 'Michèle', 'heureDebut': 14, 'heureFin': 18}]\n",
      "[{'demandeur': 'Dider', 'heureDebut': 6, 'heureFin': 8}, {'demandeur': 'Jean', 'heureDebut': 7, 'heureFin': 8.5}, {'demandeur': 'Stéphanie', 'heureDebut': 8.5, 'heureFin': 12}, {'demandeur': 'Valérie', 'heureDebut': 9, 'heureFin': 17}, {'demandeur': 'Sabrina', 'heureDebut': 9, 'heureFin': 12}, {'demandeur': 'Jacques', 'heureDebut': 10, 'heureFin': 13}, {'demandeur': 'François', 'heureDebut': 13.5, 'heureFin': 16.5}, {'demandeur': 'Michèle', 'heureDebut': 14, 'heureFin': 18}]\n"
     ]
    }
   ],
   "source": [
    "demandes = liste_triInsertionDictionnaire(demandes,\"heureDebut\")\n",
    "print(demandes)\n",
    "demandes = sorted(demandes,key=lambda k:k['heureDebut'])\n",
    "print(demandes)"
   ]
  },
  {
   "cell_type": "markdown",
   "metadata": {},
   "source": [
    "3. Écrire une fonction qui trie la structure de données définie à l’étape 1 \n",
    "    * par heure de fin croissante."
   ]
  },
  {
   "cell_type": "code",
   "execution_count": 8,
   "metadata": {},
   "outputs": [
    {
     "name": "stdout",
     "output_type": "stream",
     "text": [
      "[{'demandeur': 'Dider', 'heureDebut': 6, 'heureFin': 8}, {'demandeur': 'Jean', 'heureDebut': 7, 'heureFin': 8.5}, {'demandeur': 'Stéphanie', 'heureDebut': 8.5, 'heureFin': 12}, {'demandeur': 'Sabrina', 'heureDebut': 9, 'heureFin': 12}, {'demandeur': 'Jacques', 'heureDebut': 10, 'heureFin': 13}, {'demandeur': 'François', 'heureDebut': 13.5, 'heureFin': 16.5}, {'demandeur': 'Valérie', 'heureDebut': 9, 'heureFin': 17}, {'demandeur': 'Michèle', 'heureDebut': 14, 'heureFin': 18}]\n",
      "[{'demandeur': 'Dider', 'heureDebut': 6, 'heureFin': 8}, {'demandeur': 'Jean', 'heureDebut': 7, 'heureFin': 8.5}, {'demandeur': 'Stéphanie', 'heureDebut': 8.5, 'heureFin': 12}, {'demandeur': 'Sabrina', 'heureDebut': 9, 'heureFin': 12}, {'demandeur': 'Jacques', 'heureDebut': 10, 'heureFin': 13}, {'demandeur': 'François', 'heureDebut': 13.5, 'heureFin': 16.5}, {'demandeur': 'Valérie', 'heureDebut': 9, 'heureFin': 17}, {'demandeur': 'Michèle', 'heureDebut': 14, 'heureFin': 18}]\n"
     ]
    }
   ],
   "source": [
    "demandes = liste_triInsertionDictionnaire(demandes,\"heureFin\")\n",
    "print(demandes)\n",
    "demandes = sorted(demandes,key=lambda k:k[\"heureFin\"])\n",
    "print(demandes)"
   ]
  },
  {
   "cell_type": "markdown",
   "metadata": {},
   "source": [
    "3. Écrire une fonction qui trie la structure de données définie à l’étape 1 \n",
    "    * par durée croissante."
   ]
  },
  {
   "cell_type": "code",
   "execution_count": 9,
   "metadata": {},
   "outputs": [
    {
     "name": "stdout",
     "output_type": "stream",
     "text": [
      "[{'demandeur': 'Jean', 'heureDebut': 7, 'heureFin': 8.5, 'duree': 1.5}, {'demandeur': 'Dider', 'heureDebut': 6, 'heureFin': 8, 'duree': 2}, {'demandeur': 'Sabrina', 'heureDebut': 9, 'heureFin': 12, 'duree': 3}, {'demandeur': 'Jacques', 'heureDebut': 10, 'heureFin': 13, 'duree': 3}, {'demandeur': 'François', 'heureDebut': 13.5, 'heureFin': 16.5, 'duree': 3.0}, {'demandeur': 'Stéphanie', 'heureDebut': 8.5, 'heureFin': 12, 'duree': 3.5}, {'demandeur': 'Michèle', 'heureDebut': 14, 'heureFin': 18, 'duree': 4}, {'demandeur': 'Valérie', 'heureDebut': 9, 'heureFin': 17, 'duree': 8}]\n",
      "[{'demandeur': 'Jean', 'heureDebut': 7, 'heureFin': 8.5, 'duree': 1.5}, {'demandeur': 'Dider', 'heureDebut': 6, 'heureFin': 8, 'duree': 2}, {'demandeur': 'Sabrina', 'heureDebut': 9, 'heureFin': 12, 'duree': 3}, {'demandeur': 'Jacques', 'heureDebut': 10, 'heureFin': 13, 'duree': 3}, {'demandeur': 'François', 'heureDebut': 13.5, 'heureFin': 16.5, 'duree': 3.0}, {'demandeur': 'Stéphanie', 'heureDebut': 8.5, 'heureFin': 12, 'duree': 3.5}, {'demandeur': 'Michèle', 'heureDebut': 14, 'heureFin': 18, 'duree': 4}, {'demandeur': 'Valérie', 'heureDebut': 9, 'heureFin': 17, 'duree': 8}]\n"
     ]
    }
   ],
   "source": [
    "for demande in demandes :\n",
    "    demande[\"duree\"]=demande[\"heureFin\"]-demande[\"heureDebut\"]\n",
    "\n",
    "demandes = liste_triInsertionDictionnaire(demandes,\"duree\")\n",
    "print(demandes)\n",
    "demandes = sorted(demandes,key=lambda k:k[\"duree\"])\n",
    "print(demandes)"
   ]
  },
  {
   "cell_type": "markdown",
   "metadata": {},
   "source": [
    "4. Écrire une fonction qui prend deux “demandes” en paramètres et qui retourne vrai si ces deux demandes sont compatibles, c’est à dire qu’une des demandes se termine avant (ou au même moment) le début de l’autre."
   ]
  },
  {
   "cell_type": "code",
   "execution_count": 10,
   "metadata": {},
   "outputs": [],
   "source": [
    "def demandesCompatibles(toutesLesDemandes,nouvelleDemande):\n",
    "    \n",
    "    for demande in toutesLesDemandes:\n",
    "        if demande[\"heureDebut\"]<=nouvelleDemande[\"heureFin\"] and demande[\"heureFin\"]>=nouvelleDemande[\"heureDebut\"]:\n",
    "            return False\n",
    "    return True"
   ]
  },
  {
   "cell_type": "markdown",
   "metadata": {},
   "source": [
    "5. Écrire un algorithme qui sélectionne les demandes compatibles dans l’ordre de la structure définie à l’étape 1"
   ]
  },
  {
   "cell_type": "code",
   "execution_count": 11,
   "metadata": {},
   "outputs": [],
   "source": [
    "def optimisationsReservations(demandes):\n",
    "    reservations = [demandes[0]]\n",
    "    for i in range(1,len(demandes)):\n",
    "        if demandesCompatibles(reservations,demandes[i]):\n",
    "            reservations.append(demandes[i])\n",
    "    return reservations"
   ]
  },
  {
   "cell_type": "markdown",
   "metadata": {},
   "source": [
    "6. Tester cet algorithme avec les différents tris définis aux étapes 3, 4 et 5."
   ]
  },
  {
   "cell_type": "code",
   "execution_count": 12,
   "metadata": {},
   "outputs": [
    {
     "name": "stdout",
     "output_type": "stream",
     "text": [
      "[{'demandeur': 'Dider', 'heureDebut': 6, 'heureFin': 8, 'duree': 2}, {'demandeur': 'Stéphanie', 'heureDebut': 8.5, 'heureFin': 12, 'duree': 3.5}, {'demandeur': 'François', 'heureDebut': 13.5, 'heureFin': 16.5, 'duree': 3.0}]\n",
      "[{'demandeur': 'Dider', 'heureDebut': 6, 'heureFin': 8, 'duree': 2}, {'demandeur': 'Stéphanie', 'heureDebut': 8.5, 'heureFin': 12, 'duree': 3.5}, {'demandeur': 'François', 'heureDebut': 13.5, 'heureFin': 16.5, 'duree': 3.0}]\n",
      "[{'demandeur': 'Jean', 'heureDebut': 7, 'heureFin': 8.5, 'duree': 1.5}, {'demandeur': 'Sabrina', 'heureDebut': 9, 'heureFin': 12, 'duree': 3}, {'demandeur': 'François', 'heureDebut': 13.5, 'heureFin': 16.5, 'duree': 3.0}]\n"
     ]
    }
   ],
   "source": [
    "demandes = liste_triInsertionDictionnaire(demandes,\"heureDebut\")\n",
    "print(optimisationsReservations(demandes))\n",
    "demandes = liste_triInsertionDictionnaire(demandes,\"heureFin\")\n",
    "print(optimisationsReservations(demandes))\n",
    "demandes = liste_triInsertionDictionnaire(demandes,\"duree\")\n",
    "print(optimisationsReservations(demandes))"
   ]
  },
  {
   "cell_type": "markdown",
   "metadata": {},
   "source": [
    "7. Peut-on définir un ensemble de demandes pour lequel l’algorithme n’est pas optimal ?"
   ]
  },
  {
   "cell_type": "code",
   "execution_count": 13,
   "metadata": {},
   "outputs": [
    {
     "name": "stdout",
     "output_type": "stream",
     "text": [
      "Demandes triées par heure de début :\n",
      "[{'demandeur': 'François', 'heureDebut': 5, 'heureFin': 18, 'duree': 13}]\n",
      "Demandes triées par heure de fin :\n",
      "[{'demandeur': 'Dider', 'heureDebut': 6, 'heureFin': 8, 'duree': 2}, {'demandeur': 'Stéphanie', 'heureDebut': 8.5, 'heureFin': 12, 'duree': 3.5}, {'demandeur': 'François', 'heureDebut': 13.5, 'heureFin': 16.5, 'duree': 3.0}]\n",
      "Demandes triées par durée :\n",
      "[{'demandeur': 'Jean', 'heureDebut': 7, 'heureFin': 8.5, 'duree': 1.5}, {'demandeur': 'Sabrina', 'heureDebut': 9, 'heureFin': 12, 'duree': 3}, {'demandeur': 'François', 'heureDebut': 13.5, 'heureFin': 16.5, 'duree': 3.0}]\n"
     ]
    }
   ],
   "source": [
    "demandes = [\n",
    "    {\"demandeur\":\"Valérie\",\"heureDebut\":9,\"heureFin\":17},\n",
    "    {\"demandeur\":\"Dider\",\"heureDebut\":6,\"heureFin\":8},\n",
    "    {\"demandeur\":\"Stéphanie\",\"heureDebut\":8.5,\"heureFin\":12},    \n",
    "    {\"demandeur\":\"Jean\",\"heureDebut\":7,\"heureFin\":8.5},\n",
    "    {\"demandeur\":\"Sabrina\",\"heureDebut\":9,\"heureFin\":12},\n",
    "    {\"demandeur\":\"Jacques\",\"heureDebut\":10,\"heureFin\":13},\n",
    "    {\"demandeur\":\"Michèle\",\"heureDebut\":14,\"heureFin\":18},\n",
    "    {\"demandeur\":\"François\",\"heureDebut\":13.5,\"heureFin\":16.5},\n",
    "\n",
    "    {\"demandeur\":\"François\",\"heureDebut\":5,\"heureFin\":18}\n",
    "]\n",
    "for demande in demandes :\n",
    "    demande[\"duree\"]=demande[\"heureFin\"]-demande[\"heureDebut\"]\n",
    "    \n",
    "print(\"Demandes triées par heure de début :\")\n",
    "demandes = liste_triInsertionDictionnaire(demandes,\"heureDebut\")\n",
    "print(optimisationsReservations(demandes))\n",
    "\n",
    "\n",
    "print(\"Demandes triées par heure de fin :\")\n",
    "demandes = liste_triInsertionDictionnaire(demandes,\"heureFin\")\n",
    "print(optimisationsReservations(demandes))\n",
    "\n",
    "print(\"Demandes triées par durée :\")\n",
    "demandes = liste_triInsertionDictionnaire(demandes,\"duree\")\n",
    "print(optimisationsReservations(demandes))"
   ]
  },
  {
   "cell_type": "code",
   "execution_count": 14,
   "metadata": {},
   "outputs": [
    {
     "name": "stdout",
     "output_type": "stream",
     "text": [
      "[{'demandeur': 'Dider', 'heureDebut': 6, 'heureFin': 8}, {'demandeur': 'Stéphanie', 'heureDebut': 8.5, 'heureFin': 12}, {'demandeur': 'François', 'heureDebut': 13.5, 'heureFin': 16.5}]\n"
     ]
    }
   ],
   "source": [
    "def optimisationsReservations_recursif(demandes,derniereReservation=None):\n",
    "    #premier appel\n",
    "    if derniereReservation == None:\n",
    "        return [demandes[0]]+optimisationsReservations_recursif(demandes[1:],demandes[0])\n",
    "    #dernier appel\n",
    "    if len(demandes)==0:\n",
    "        return []\n",
    "    #cas général\n",
    "    if derniereReservation[\"heureFin\"]<=demandes[0][\"heureDebut\"]:        \n",
    "        return [demandes[0]]+optimisationsReservations_recursif(demandes[1:],demandes[0])\n",
    "    \n",
    "    return optimisationsReservations_recursif(demandes[1:],derniereReservation)\n",
    "\n",
    "demandes = [\n",
    "    {\"demandeur\":\"Valérie\",\"heureDebut\":9,\"heureFin\":17},\n",
    "    {\"demandeur\":\"Dider\",\"heureDebut\":6,\"heureFin\":8},\n",
    "    {\"demandeur\":\"Stéphanie\",\"heureDebut\":8.5,\"heureFin\":12},    \n",
    "    {\"demandeur\":\"Jean\",\"heureDebut\":7,\"heureFin\":8.5},\n",
    "    {\"demandeur\":\"Sabrina\",\"heureDebut\":9,\"heureFin\":12},\n",
    "    {\"demandeur\":\"Jacques\",\"heureDebut\":10,\"heureFin\":13},\n",
    "    {\"demandeur\":\"Michèle\",\"heureDebut\":14,\"heureFin\":18},\n",
    "    {\"demandeur\":\"François\",\"heureDebut\":13.5,\"heureFin\":16.5}\n",
    "]    \n",
    "demandes = sorted(demandes ,key=lambda k:k['heureFin'])\n",
    "print(optimisationsReservations_recursif(demandes))"
   ]
  }
 ],
 "metadata": {
  "celltoolbar": "Aucun(e)",
  "kernelspec": {
   "display_name": "Python 3",
   "language": "python",
   "name": "python3"
  },
  "language_info": {
   "codemirror_mode": {
    "name": "ipython",
    "version": 3
   },
   "file_extension": ".py",
   "mimetype": "text/x-python",
   "name": "python",
   "nbconvert_exporter": "python",
   "pygments_lexer": "ipython3",
   "version": "3.7.6"
  }
 },
 "nbformat": 4,
 "nbformat_minor": 4
}
